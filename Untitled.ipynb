{
 "cells": [
  {
   "cell_type": "code",
   "execution_count": 1,
   "id": "887bf34a",
   "metadata": {},
   "outputs": [],
   "source": [
    "from bs4 import BeautifulSoup\n",
    "import requests\n",
    "import re\n",
    "import csv "
   ]
  },
  {
   "cell_type": "code",
   "execution_count": 2,
   "id": "ea689ee7",
   "metadata": {},
   "outputs": [
    {
     "name": "stdout",
     "output_type": "stream",
     "text": [
      "{'Name': 'Bitcoin', 'Symbol': 'BTC', 'URL': '/currencies/bitcoin/'}\n",
      "{'Name': 'Ethereum', 'Symbol': 'ETH', 'URL': '/currencies/ethereum/'}\n",
      "{'Name': 'Binance Coin', 'Symbol': 'BNB', 'URL': '/currencies/binance-coin/'}\n",
      "{'Name': 'Dogecoin', 'Symbol': 'DOGE', 'URL': '/currencies/dogecoin/'}\n",
      "{'Name': 'XRP', 'Symbol': 'XRP', 'URL': '/currencies/xrp/'}\n",
      "{'Name': 'Cardano', 'Symbol': 'ADA', 'URL': '/currencies/cardano/'}\n",
      "{'Name': 'Polkadot', 'Symbol': 'DOT', 'URL': '/currencies/polkadot-new/'}\n",
      "{'Name': 'Bitcoin Cash', 'Symbol': 'BCH', 'URL': '/currencies/bitcoin-cash/'}\n",
      "{'Name': 'Litecoin', 'Symbol': 'LTC', 'URL': '/currencies/litecoin/'}\n",
      "{'Name': 'Ethereum Classic', 'Symbol': 'ETC', 'URL': '/currencies/ethereum-classic/'}\n"
     ]
    },
    {
     "ename": "IndexError",
     "evalue": "list index out of range",
     "output_type": "error",
     "traceback": [
      "\u001b[1;31m---------------------------------------------------------------------------\u001b[0m",
      "\u001b[1;31mIndexError\u001b[0m                                Traceback (most recent call last)",
      "\u001b[1;32m<ipython-input-2-9f57f8393e50>\u001b[0m in \u001b[0;36m<module>\u001b[1;34m\u001b[0m\n\u001b[0;32m     11\u001b[0m      \u001b[1;31m# URL value here\u001b[0m\u001b[1;33m\u001b[0m\u001b[1;33m\u001b[0m\u001b[1;33m\u001b[0m\u001b[0m\n\u001b[0;32m     12\u001b[0m     \u001b[0murl_tag\u001b[0m \u001b[1;33m=\u001b[0m \u001b[0ma_href_1\u001b[0m\u001b[1;33m.\u001b[0m\u001b[0mget\u001b[0m\u001b[1;33m(\u001b[0m\u001b[1;34m'href'\u001b[0m\u001b[1;33m)\u001b[0m\u001b[1;33m\u001b[0m\u001b[1;33m\u001b[0m\u001b[0m\n\u001b[1;32m---> 13\u001b[1;33m     \u001b[0mdiv_2\u001b[0m \u001b[1;33m=\u001b[0m \u001b[0mcells\u001b[0m\u001b[1;33m.\u001b[0m\u001b[0mfindAll\u001b[0m\u001b[1;33m(\u001b[0m\u001b[1;34m\"div\"\u001b[0m\u001b[1;33m)\u001b[0m\u001b[1;33m[\u001b[0m\u001b[1;36m0\u001b[0m\u001b[1;33m]\u001b[0m\u001b[1;33m\u001b[0m\u001b[1;33m\u001b[0m\u001b[0m\n\u001b[0m\u001b[0;32m     14\u001b[0m     \u001b[0mdiv_3\u001b[0m \u001b[1;33m=\u001b[0m \u001b[0mdiv_2\u001b[0m\u001b[1;33m.\u001b[0m\u001b[0mfindAll\u001b[0m\u001b[1;33m(\u001b[0m\u001b[1;34m\"div\"\u001b[0m\u001b[1;33m)\u001b[0m\u001b[1;33m[\u001b[0m\u001b[1;36m0\u001b[0m\u001b[1;33m]\u001b[0m\u001b[1;33m\u001b[0m\u001b[1;33m\u001b[0m\u001b[0m\n\u001b[0;32m     15\u001b[0m     \u001b[0mparagraph_1\u001b[0m \u001b[1;33m=\u001b[0m \u001b[0mdiv_3\u001b[0m\u001b[1;33m.\u001b[0m\u001b[0mfindAll\u001b[0m\u001b[1;33m(\u001b[0m\u001b[1;34m\"p\"\u001b[0m\u001b[1;33m)\u001b[0m\u001b[1;33m[\u001b[0m\u001b[1;36m0\u001b[0m\u001b[1;33m]\u001b[0m\u001b[1;33m\u001b[0m\u001b[1;33m\u001b[0m\u001b[0m\n",
      "\u001b[1;31mIndexError\u001b[0m: list index out of range"
     ]
    }
   ],
   "source": [
    "url = \"https://coinmarketcap.com/coins\"\n",
    "html_content = requests.get(url).text\n",
    "soup = BeautifulSoup(html_content, \"lxml\")\n",
    "data_table = soup.find(\"table\", attrs={\"class\": \"cmc-table cmc-table___11lFC cmc-table-homepage___2_guh\"})\n",
    "data_table_data = data_table.tbody.find_all(\"tr\")\n",
    "count = 1\n",
    "for row in data_table.tbody.find_all(\"tr\"):\n",
    "    Data = {\"Name\": ' ', \"Symbol\": ' ', \"URL\": ' '}\n",
    "    cells = row.findAll(\"td\")[2]\n",
    "    a_href_1 = cells.findAll(\"a\")[0]\n",
    "     # URL value here\n",
    "    url_tag = a_href_1.get('href')\n",
    "    div_2 = cells.findAll(\"div\")[0]\n",
    "    div_3 = div_2.findAll(\"div\")[0]\n",
    "    paragraph_1 = div_3.findAll(\"p\")[0]\n",
    "    Name = paragraph_1.get_text()\n",
    "    div_4 = div_3.findAll(\"div\")[0]\n",
    "    div_5 = div_4.findAll(\"div\")[0]\n",
    "    paragraph_2 = div_5.findAll(\"p\")[0]\n",
    "    symbol = paragraph_2.get_text()\n",
    "    Data[\"Name\"] = Name\n",
    "    Data[\"URL\"] = url_tag\n",
    "    Data[\"Symbol\"] = symbol\n",
    "    count=count+1\n",
    "    print(Data)"
   ]
  },
  {
   "cell_type": "code",
   "execution_count": 5,
   "id": "ed39693a",
   "metadata": {},
   "outputs": [
    {
     "name": "stdout",
     "output_type": "stream",
     "text": [
      "[<p class=\"sc-1eb5slv-0 iJjGCS\" color=\"text\" font-size=\"1\" font-weight=\"semibold\">Bitcoin</p>, <p class=\"sc-1eb5slv-0 iJjGCS\" color=\"text\" font-size=\"1\" font-weight=\"semibold\">Ethereum</p>, <p class=\"sc-1eb5slv-0 iJjGCS\" color=\"text\" font-size=\"1\" font-weight=\"semibold\">Binance Coin</p>, <p class=\"sc-1eb5slv-0 iJjGCS\" color=\"text\" font-size=\"1\" font-weight=\"semibold\">Dogecoin</p>, <p class=\"sc-1eb5slv-0 iJjGCS\" color=\"text\" font-size=\"1\" font-weight=\"semibold\">XRP</p>, <p class=\"sc-1eb5slv-0 iJjGCS\" color=\"text\" font-size=\"1\" font-weight=\"semibold\">Cardano</p>, <p class=\"sc-1eb5slv-0 iJjGCS\" color=\"text\" font-size=\"1\" font-weight=\"semibold\">Polkadot</p>, <p class=\"sc-1eb5slv-0 iJjGCS\" color=\"text\" font-size=\"1\" font-weight=\"semibold\">Bitcoin Cash</p>, <p class=\"sc-1eb5slv-0 iJjGCS\" color=\"text\" font-size=\"1\" font-weight=\"semibold\">Litecoin</p>, <p class=\"sc-1eb5slv-0 iJjGCS\" color=\"text\" font-size=\"1\" font-weight=\"semibold\">Ethereum Classic</p>]\n"
     ]
    }
   ],
   "source": [
    "url = \"https://coinmarketcap.com/coins\"\n",
    "html_content = requests.get(url).text\n",
    "soup = BeautifulSoup(html_content, \"lxml\")\n",
    "div_1=soup.find(\"p\", attrs={\"class\": \"sc-1eb5slv-0 iJjGCS\"})\n",
    "div_2=soup.findAll(\"p\", {\"class\": \"sc-1eb5slv-0 iJjGCS\"})\n",
    "print(div_2)"
   ]
  },
  {
   "cell_type": "code",
   "execution_count": 27,
   "id": "b3039690",
   "metadata": {},
   "outputs": [
    {
     "name": "stdout",
     "output_type": "stream",
     "text": [
      "/currencies/vechain/\n",
      "VeChain\n",
      "VET\n"
     ]
    }
   ],
   "source": [
    "div_10=soup.find(\"tr\", {\"class\": \"sc-14kwl6f-0 fletOv\"})\n",
    "#div = soup.find(\"div\", {\"id\": \"home-template\"})\n",
    "tabel_data_div=div_10.findAll(\"td\")[2]\n",
    "a_href_link=tabel_data_div.find(\"a\")\n",
    "print(a_href_link.get('href'))\n",
    "Name_span=a_href_link.findAll(\"span\")[1]\n",
    "Name=Name_span.get_text()\n",
    "print(Name)\n",
    "Symbol_span=a_href_link.findAll(\"span\")[2]\n",
    "Symbol=Symbol_span.get_text()\n",
    "print(Symbol)\n",
    "#print(tabel_data)"
   ]
  },
  {
   "cell_type": "code",
   "execution_count": null,
   "id": "c84ed9a6",
   "metadata": {},
   "outputs": [],
   "source": [
    "div_10=soup.find(\"tr\", {\"class\": \"sc-14kwl6f-0 fletOv\"})\n",
    "#div = soup.find(\"div\", {\"id\": \"home-template\"})\n",
    "tabel_data_div=div_10.findAll(\"td\")[2]\n",
    "a_href_link=tabel_data_div.find(\"a\")\n",
    "print(a_href_link.get('href'))\n",
    "Name_span=a_href_link.findAll(\"span\")[1]\n",
    "Name=Name_span.get_text()\n",
    "print(Name)\n",
    "Symbol_span=a_href_link.findAll(\"span\")[2]\n",
    "Symbol=Symbol_span.get_text()\n",
    "print(Symbol)\n",
    "#print(tabel_data)"
   ]
  },
  {
   "cell_type": "code",
   "execution_count": 29,
   "id": "423749e6",
   "metadata": {},
   "outputs": [
    {
     "name": "stdout",
     "output_type": "stream",
     "text": [
      "<tr class=\"sc-14kwl6f-0 fletOv\"><td><span></span></td><td><span></span></td><td><a class=\"cmc-link\" href=\"/currencies/stellar/\"><span class=\"circle\"></span><span>Stellar</span><span class=\"crypto-symbol\">XLM</span></a></td><td><span>$<!-- -->0.62</span></td><td><span></span></td></tr>\n"
     ]
    }
   ],
   "source": [
    "div_10=soup.findAll(\"tr\", {\"class\": \"sc-14kwl6f-0 fletOv\"})[1]\n",
    "print(div_10)"
   ]
  },
  {
   "cell_type": "code",
   "execution_count": null,
   "id": "90cca44b",
   "metadata": {},
   "outputs": [],
   "source": [
    "from bs4 import BeautifulSoup\n",
    "import requests\n",
    "import re\n",
    "import csv "
   ]
  },
  {
   "cell_type": "code",
   "execution_count": 33,
   "id": "2c79758c",
   "metadata": {},
   "outputs": [
    {
     "name": "stdout",
     "output_type": "stream",
     "text": [
      "{'Name': 'Bitcoin', 'Symbol': 'BTC', 'URL': '/currencies/bitcoin/'}\n",
      "{'Name': 'Ethereum', 'Symbol': 'ETH', 'URL': '/currencies/ethereum/'}\n",
      "{'Name': 'Binance Coin', 'Symbol': 'BNB', 'URL': '/currencies/binance-coin/'}\n",
      "{'Name': 'Dogecoin', 'Symbol': 'DOGE', 'URL': '/currencies/dogecoin/'}\n",
      "{'Name': 'XRP', 'Symbol': 'XRP', 'URL': '/currencies/xrp/'}\n",
      "{'Name': 'Cardano', 'Symbol': 'ADA', 'URL': '/currencies/cardano/'}\n",
      "{'Name': 'Polkadot', 'Symbol': 'DOT', 'URL': '/currencies/polkadot-new/'}\n",
      "{'Name': 'Bitcoin Cash', 'Symbol': 'BCH', 'URL': '/currencies/bitcoin-cash/'}\n",
      "{'Name': 'Litecoin', 'Symbol': 'LTC', 'URL': '/currencies/litecoin/'}\n",
      "{'Name': 'Stellar', 'Symbol': 'XLM', 'URL': '/currencies/stellar/'}\n",
      "{'Name': 'VeChain', 'Symbol': 'VET', 'URL': '/currencies/vechain/'}\n",
      "{'Name': 'Ethereum Classic', 'Symbol': 'ETC', 'URL': '/currencies/ethereum-classic/'}\n",
      "{'Name': 'THETA', 'Symbol': 'THETA', 'URL': '/currencies/theta/'}\n",
      "{'Name': 'Solana', 'Symbol': 'SOL', 'URL': '/currencies/solana/'}\n",
      "{'Name': 'Filecoin', 'Symbol': 'FIL', 'URL': '/currencies/filecoin/'}\n",
      "{'Name': 'TRON', 'Symbol': 'TRX', 'URL': '/currencies/tron/'}\n",
      "{'Name': 'EOS', 'Symbol': 'EOS', 'URL': '/currencies/eos/'}\n",
      "{'Name': 'Neo', 'Symbol': 'NEO', 'URL': '/currencies/neo/'}\n",
      "{'Name': 'Monero', 'Symbol': 'XMR', 'URL': '/currencies/monero/'}\n",
      "{'Name': 'Bitcoin SV', 'Symbol': 'BSV', 'URL': '/currencies/bitcoin-sv/'}\n",
      "{'Name': 'Terra', 'Symbol': 'LUNA', 'URL': '/currencies/terra-luna/'}\n",
      "{'Name': 'IOTA', 'Symbol': 'MIOTA', 'URL': '/currencies/iota/'}\n",
      "{'Name': 'Cosmos', 'Symbol': 'ATOM', 'URL': '/currencies/cosmos/'}\n",
      "{'Name': 'Tezos', 'Symbol': 'XTZ', 'URL': '/currencies/tezos/'}\n",
      "{'Name': 'Klaytn', 'Symbol': 'KLAY', 'URL': '/currencies/klaytn/'}\n",
      "{'Name': 'Avalanche', 'Symbol': 'AVAX', 'URL': '/currencies/avalanche/'}\n",
      "{'Name': 'Algorand', 'Symbol': 'ALGO', 'URL': '/currencies/algorand/'}\n",
      "{'Name': 'Dash', 'Symbol': 'DASH', 'URL': '/currencies/dash/'}\n",
      "{'Name': 'Kusama', 'Symbol': 'KSM', 'URL': '/currencies/kusama/'}\n",
      "{'Name': 'Zcash', 'Symbol': 'ZEC', 'URL': '/currencies/zcash/'}\n",
      "{'Name': 'NEM', 'Symbol': 'XEM', 'URL': '/currencies/nem/'}\n",
      "{'Name': 'Waves', 'Symbol': 'WAVES', 'URL': '/currencies/waves/'}\n",
      "{'Name': 'Elrond', 'Symbol': 'EGLD', 'URL': '/currencies/elrond-egld/'}\n",
      "{'Name': 'Qtum', 'Symbol': 'QTUM', 'URL': '/currencies/qtum/'}\n",
      "{'Name': 'Decred', 'Symbol': 'DCR', 'URL': '/currencies/decred/'}\n",
      "{'Name': 'Zilliqa', 'Symbol': 'ZIL', 'URL': '/currencies/zilliqa/'}\n",
      "{'Name': 'Hedera Hashgraph', 'Symbol': 'HBAR', 'URL': '/currencies/hedera-hashgraph/'}\n",
      "{'Name': 'Bitcoin Gold', 'Symbol': 'BTG', 'URL': '/currencies/bitcoin-gold/'}\n",
      "{'Name': 'Stacks', 'Symbol': 'STX', 'URL': '/currencies/stacks/'}\n",
      "{'Name': 'Theta Fuel', 'Symbol': 'TFUEL', 'URL': '/currencies/theta-fuel/'}\n",
      "{'Name': 'Ontology', 'Symbol': 'ONT', 'URL': '/currencies/ontology/'}\n",
      "{'Name': 'DigiByte', 'Symbol': 'DGB', 'URL': '/currencies/digibyte/'}\n",
      "{'Name': 'Fantom', 'Symbol': 'FTM', 'URL': '/currencies/fantom/'}\n",
      "{'Name': 'TerraUSD', 'Symbol': 'UST', 'URL': '/currencies/terrausd/'}\n",
      "{'Name': 'NEAR Protocol', 'Symbol': 'NEAR', 'URL': '/currencies/near-protocol/'}\n",
      "{'Name': 'Siacoin', 'Symbol': 'SC', 'URL': '/currencies/siacoin/'}\n",
      "{'Name': 'Bitcoin Diamond', 'Symbol': 'BCD', 'URL': '/currencies/bitcoin-diamond/'}\n",
      "{'Name': 'ICON', 'Symbol': 'ICX', 'URL': '/currencies/icon/'}\n",
      "{'Name': 'Horizen', 'Symbol': 'ZEN', 'URL': '/currencies/horizen/'}\n",
      "{'Name': 'Ravencoin', 'Symbol': 'RVN', 'URL': '/currencies/ravencoin/'}\n"
     ]
    }
   ],
   "source": [
    "url = \"https://coinmarketcap.com/coins\"\n",
    "html_content = requests.get(url).text\n",
    "with open('coins.csv', mode='w') as coins_file:\n",
    "    coins_writer = csv.writer(coins_file, delimiter=',', quotechar='\"', quoting=csv.QUOTE_MINIMAL)\n",
    "    coins_writer.writerow([\"SNo\",'Name', 'Symbol', 'URL'])\n",
    "    # Parse the html content\n",
    "    soup = BeautifulSoup(html_content, \"lxml\")\n",
    "    data_table = soup.find(\"table\", attrs={\"class\": \"cmc-table cmc-table___11lFC cmc-table-homepage___2_guh\"})\n",
    "    data_table_data = data_table.tbody.find_all(\"tr\")\n",
    "    #     count = 1\n",
    "    #     for row in data_table.tbody.find_all(\"tr\"):\n",
    "    #         Data = {\"Name\": ' ', \"Symbol\": ' ', \"URL\": ' '}\n",
    "    #         cells = row.findAll(\"td\")[2]\n",
    "    #         a_href_1 = cells.findAll(\"a\")[0]\n",
    "    #         # URL value here\n",
    "    #         url_tag = a_href_1.get('href')\n",
    "    #         div_2 = cells.findAll(\"div\")[0]\n",
    "    #         div_3 = div_2.findAll(\"div\")[0]\n",
    "    #         paragraph_1 = div_3.findAll(\"p\")[0]\n",
    "    #         Name = paragraph_1.get_text()\n",
    "    #         div_4 = div_3.findAll(\"div\")[0]\n",
    "    #         div_5 = div_4.findAll(\"div\")[0]\n",
    "    #         paragraph_2 = div_5.findAll(\"p\")[0]\n",
    "    #         symbol = paragraph_2.get_text()\n",
    "    #         Data[\"Name\"] = Name\n",
    "    #         Data[\"URL\"] = url_tag\n",
    "    #         Data[\"Symbol\"] = symbol\n",
    "    #         coins_writer.writerow(\n",
    "    #             [count,Name, symbol, \"https://coinmarketcap.com\"+url_tag])\n",
    "    #         count=count+1\n",
    "    #         print(Data)\n",
    "    for_except=0\n",
    "    count=1\n",
    "    while(count<=50):\n",
    "        if(count<10):\n",
    "            try:\n",
    "                for row in data_table.tbody.find_all(\"tr\"):\n",
    "                    cells = row.findAll(\"td\")[2]\n",
    "                    a_href_1 = cells.findAll(\"a\")[0]\n",
    "                    # URL value here\n",
    "                    url_tag = a_href_1.get('href')\n",
    "                    div_2 = cells.findAll(\"div\")[0]\n",
    "                    div_3 = div_2.findAll(\"div\")[0]\n",
    "                    paragraph_1 = div_3.findAll(\"p\")[0]\n",
    "                    Name = paragraph_1.get_text()\n",
    "                    div_4 = div_3.findAll(\"div\")[0]\n",
    "                    div_5 = div_4.findAll(\"div\")[0]\n",
    "                    paragraph_2 = div_5.findAll(\"p\")[0]\n",
    "                    symbol = paragraph_2.get_text()\n",
    "                    Data[\"Name\"] = Name\n",
    "                    Data[\"URL\"] = url_tag\n",
    "                    Data[\"Symbol\"] = symbol\n",
    "                    coins_writer.writerow([count,Name, symbol, \"https://coinmarketcap.com\"+url_tag])\n",
    "                    count=count+1\n",
    "                    print(Data)\n",
    "            except:\n",
    "               continue\n",
    "        else:\n",
    "            div_10=soup.findAll(\"tr\", {\"class\": \"sc-14kwl6f-0 fletOv\"})[for_except]\n",
    "            #div = soup.find(\"div\", {\"id\": \"home-template\"})\n",
    "            tabel_data_div=div_10.findAll(\"td\")[2]\n",
    "            a_href_link=tabel_data_div.find(\"a\")\n",
    "            Name_span=a_href_link.findAll(\"span\")[1]\n",
    "            Name=Name_span.get_text()\n",
    "            Symbol_span=a_href_link.findAll(\"span\")[2]\n",
    "            Symbol=Symbol_span.get_text()\n",
    "            Data[\"Name\"] = Name\n",
    "            Data[\"URL\"] = a_href_link.get('href')\n",
    "            Data[\"Symbol\"] = Symbol\n",
    "            for_except+=1\n",
    "            coins_writer.writerow([count,Name, Symbol, \"https://coinmarketcap.com\"+a_href_link.get('href')])\n",
    "            count+=1\n",
    "            print(Data)"
   ]
  },
  {
   "cell_type": "code",
   "execution_count": null,
   "id": "66f43f93",
   "metadata": {},
   "outputs": [],
   "source": []
  }
 ],
 "metadata": {
  "kernelspec": {
   "display_name": "Python 3",
   "language": "python",
   "name": "python3"
  },
  "language_info": {
   "codemirror_mode": {
    "name": "ipython",
    "version": 3
   },
   "file_extension": ".py",
   "mimetype": "text/x-python",
   "name": "python",
   "nbconvert_exporter": "python",
   "pygments_lexer": "ipython3",
   "version": "3.9.4"
  }
 },
 "nbformat": 4,
 "nbformat_minor": 5
}
