{
 "cells": [
  {
   "cell_type": "code",
   "execution_count": 1,
   "id": "14cf9d64",
   "metadata": {},
   "outputs": [],
   "source": [
    "from bs4 import BeautifulSoup\n",
    "import requests\n",
    "import re\n",
    "import csv "
   ]
  },
  {
   "cell_type": "code",
   "execution_count": 2,
   "id": "86133767",
   "metadata": {},
   "outputs": [
    {
     "name": "stdout",
     "output_type": "stream",
     "text": [
      "{'Name': 'Bitcoin', 'Symbol': 'BTC', 'URL': '/currencies/bitcoin/'}\n",
      "{'Name': 'Ethereum', 'Symbol': 'ETH', 'URL': '/currencies/ethereum/'}\n",
      "{'Name': 'Binance Coin', 'Symbol': 'BNB', 'URL': '/currencies/binance-coin/'}\n",
      "{'Name': 'Dogecoin', 'Symbol': 'DOGE', 'URL': '/currencies/dogecoin/'}\n",
      "{'Name': 'XRP', 'Symbol': 'XRP', 'URL': '/currencies/xrp/'}\n",
      "{'Name': 'Cardano', 'Symbol': 'ADA', 'URL': '/currencies/cardano/'}\n",
      "{'Name': 'Polkadot', 'Symbol': 'DOT', 'URL': '/currencies/polkadot-new/'}\n",
      "{'Name': 'Bitcoin Cash', 'Symbol': 'BCH', 'URL': '/currencies/bitcoin-cash/'}\n",
      "{'Name': 'Litecoin', 'Symbol': 'LTC', 'URL': '/currencies/litecoin/'}\n",
      "{'Name': 'Ethereum Classic', 'Symbol': 'ETC', 'URL': '/currencies/ethereum-classic/'}\n"
     ]
    },
    {
     "ename": "IndexError",
     "evalue": "list index out of range",
     "output_type": "error",
     "traceback": [
      "\u001b[1;31m---------------------------------------------------------------------------\u001b[0m",
      "\u001b[1;31mIndexError\u001b[0m                                Traceback (most recent call last)",
      "\u001b[1;32m<ipython-input-2-9f57f8393e50>\u001b[0m in \u001b[0;36m<module>\u001b[1;34m\u001b[0m\n\u001b[0;32m     11\u001b[0m      \u001b[1;31m# URL value here\u001b[0m\u001b[1;33m\u001b[0m\u001b[1;33m\u001b[0m\u001b[1;33m\u001b[0m\u001b[0m\n\u001b[0;32m     12\u001b[0m     \u001b[0murl_tag\u001b[0m \u001b[1;33m=\u001b[0m \u001b[0ma_href_1\u001b[0m\u001b[1;33m.\u001b[0m\u001b[0mget\u001b[0m\u001b[1;33m(\u001b[0m\u001b[1;34m'href'\u001b[0m\u001b[1;33m)\u001b[0m\u001b[1;33m\u001b[0m\u001b[1;33m\u001b[0m\u001b[0m\n\u001b[1;32m---> 13\u001b[1;33m     \u001b[0mdiv_2\u001b[0m \u001b[1;33m=\u001b[0m \u001b[0mcells\u001b[0m\u001b[1;33m.\u001b[0m\u001b[0mfindAll\u001b[0m\u001b[1;33m(\u001b[0m\u001b[1;34m\"div\"\u001b[0m\u001b[1;33m)\u001b[0m\u001b[1;33m[\u001b[0m\u001b[1;36m0\u001b[0m\u001b[1;33m]\u001b[0m\u001b[1;33m\u001b[0m\u001b[1;33m\u001b[0m\u001b[0m\n\u001b[0m\u001b[0;32m     14\u001b[0m     \u001b[0mdiv_3\u001b[0m \u001b[1;33m=\u001b[0m \u001b[0mdiv_2\u001b[0m\u001b[1;33m.\u001b[0m\u001b[0mfindAll\u001b[0m\u001b[1;33m(\u001b[0m\u001b[1;34m\"div\"\u001b[0m\u001b[1;33m)\u001b[0m\u001b[1;33m[\u001b[0m\u001b[1;36m0\u001b[0m\u001b[1;33m]\u001b[0m\u001b[1;33m\u001b[0m\u001b[1;33m\u001b[0m\u001b[0m\n\u001b[0;32m     15\u001b[0m     \u001b[0mparagraph_1\u001b[0m \u001b[1;33m=\u001b[0m \u001b[0mdiv_3\u001b[0m\u001b[1;33m.\u001b[0m\u001b[0mfindAll\u001b[0m\u001b[1;33m(\u001b[0m\u001b[1;34m\"p\"\u001b[0m\u001b[1;33m)\u001b[0m\u001b[1;33m[\u001b[0m\u001b[1;36m0\u001b[0m\u001b[1;33m]\u001b[0m\u001b[1;33m\u001b[0m\u001b[1;33m\u001b[0m\u001b[0m\n",
      "\u001b[1;31mIndexError\u001b[0m: list index out of range"
     ]
    }
   ],
   "source": [
    "url = \"https://coinmarketcap.com/coins\"\n",
    "html_content = requests.get(url).text\n",
    "soup = BeautifulSoup(html_content, \"lxml\")\n",
    "data_table = soup.find(\"table\", attrs={\"class\": \"cmc-table cmc-table___11lFC cmc-table-homepage___2_guh\"})\n",
    "data_table_data = data_table.tbody.find_all(\"tr\")\n",
    "count = 1\n",
    "for row in data_table.tbody.find_all(\"tr\"):\n",
    "    Data = {\"Name\": ' ', \"Symbol\": ' ', \"URL\": ' '}\n",
    "    cells = row.findAll(\"td\")[2]\n",
    "    a_href_1 = cells.findAll(\"a\")[0]\n",
    "     # URL value here\n",
    "    url_tag = a_href_1.get('href')\n",
    "    div_2 = cells.findAll(\"div\")[0]\n",
    "    div_3 = div_2.findAll(\"div\")[0]\n",
    "    paragraph_1 = div_3.findAll(\"p\")[0]\n",
    "    Name = paragraph_1.get_text()\n",
    "    div_4 = div_3.findAll(\"div\")[0]\n",
    "    div_5 = div_4.findAll(\"div\")[0]\n",
    "    paragraph_2 = div_5.findAll(\"p\")[0]\n",
    "    symbol = paragraph_2.get_text()\n",
    "    Data[\"Name\"] = Name\n",
    "    Data[\"URL\"] = url_tag\n",
    "    Data[\"Symbol\"] = symbol\n",
    "    count=count+1\n",
    "    print(Data)"
   ]
  },
  {
   "cell_type": "code",
   "execution_count": 5,
   "id": "e52b9cdb",
   "metadata": {},
   "outputs": [
    {
     "name": "stdout",
     "output_type": "stream",
     "text": [
      "[<p class=\"sc-1eb5slv-0 iJjGCS\" color=\"text\" font-size=\"1\" font-weight=\"semibold\">Bitcoin</p>, <p class=\"sc-1eb5slv-0 iJjGCS\" color=\"text\" font-size=\"1\" font-weight=\"semibold\">Ethereum</p>, <p class=\"sc-1eb5slv-0 iJjGCS\" color=\"text\" font-size=\"1\" font-weight=\"semibold\">Binance Coin</p>, <p class=\"sc-1eb5slv-0 iJjGCS\" color=\"text\" font-size=\"1\" font-weight=\"semibold\">Dogecoin</p>, <p class=\"sc-1eb5slv-0 iJjGCS\" color=\"text\" font-size=\"1\" font-weight=\"semibold\">XRP</p>, <p class=\"sc-1eb5slv-0 iJjGCS\" color=\"text\" font-size=\"1\" font-weight=\"semibold\">Cardano</p>, <p class=\"sc-1eb5slv-0 iJjGCS\" color=\"text\" font-size=\"1\" font-weight=\"semibold\">Polkadot</p>, <p class=\"sc-1eb5slv-0 iJjGCS\" color=\"text\" font-size=\"1\" font-weight=\"semibold\">Bitcoin Cash</p>, <p class=\"sc-1eb5slv-0 iJjGCS\" color=\"text\" font-size=\"1\" font-weight=\"semibold\">Litecoin</p>, <p class=\"sc-1eb5slv-0 iJjGCS\" color=\"text\" font-size=\"1\" font-weight=\"semibold\">Ethereum Classic</p>]\n"
     ]
    }
   ],
   "source": [
    "url = \"https://coinmarketcap.com/coins\"\n",
    "html_content = requests.get(url).text\n",
    "soup = BeautifulSoup(html_content, \"lxml\")\n",
    "div_1=soup.find(\"p\", attrs={\"class\": \"sc-1eb5slv-0 iJjGCS\"})\n",
    "div_2=soup.findAll(\"p\", {\"class\": \"sc-1eb5slv-0 iJjGCS\"})\n",
    "print(div_2)"
   ]
  },
  {
   "cell_type": "code",
   "execution_count": 27,
   "id": "bf4a4e34",
   "metadata": {},
   "outputs": [
    {
     "name": "stdout",
     "output_type": "stream",
     "text": [
      "/currencies/vechain/\n",
      "VeChain\n",
      "VET\n"
     ]
    }
   ],
   "source": [
    "div_10=soup.find(\"tr\", {\"class\": \"sc-14kwl6f-0 fletOv\"})\n",
    "#div = soup.find(\"div\", {\"id\": \"home-template\"})\n",
    "tabel_data_div=div_10.findAll(\"td\")[2]\n",
    "a_href_link=tabel_data_div.find(\"a\")\n",
    "print(a_href_link.get('href'))\n",
    "Name_span=a_href_link.findAll(\"span\")[1]\n",
    "Name=Name_span.get_text()\n",
    "print(Name)\n",
    "Symbol_span=a_href_link.findAll(\"span\")[2]\n",
    "Symbol=Symbol_span.get_text()\n",
    "print(Symbol)\n",
    "#print(tabel_data)"
   ]
  },
  {
   "cell_type": "code",
   "execution_count": null,
   "id": "21106de7",
   "metadata": {},
   "outputs": [],
   "source": [
    "div_10=soup.find(\"tr\", {\"class\": \"sc-14kwl6f-0 fletOv\"})\n",
    "#div = soup.find(\"div\", {\"id\": \"home-template\"})\n",
    "tabel_data_div=div_10.findAll(\"td\")[2]\n",
    "a_href_link=tabel_data_div.find(\"a\")\n",
    "print(a_href_link.get('href'))\n",
    "Name_span=a_href_link.findAll(\"span\")[1]\n",
    "Name=Name_span.get_text()\n",
    "print(Name)\n",
    "Symbol_span=a_href_link.findAll(\"span\")[2]\n",
    "Symbol=Symbol_span.get_text()\n",
    "print(Symbol)\n",
    "#print(tabel_data)"
   ]
  },
  {
   "cell_type": "code",
   "execution_count": 29,
   "id": "797dcf0b",
   "metadata": {},
   "outputs": [
    {
     "name": "stdout",
     "output_type": "stream",
     "text": [
      "<tr class=\"sc-14kwl6f-0 fletOv\"><td><span></span></td><td><span></span></td><td><a class=\"cmc-link\" href=\"/currencies/stellar/\"><span class=\"circle\"></span><span>Stellar</span><span class=\"crypto-symbol\">XLM</span></a></td><td><span>$<!-- -->0.62</span></td><td><span></span></td></tr>\n"
     ]
    }
   ],
   "source": [
    "div_10=soup.findAll(\"tr\", {\"class\": \"sc-14kwl6f-0 fletOv\"})[1]\n",
    "print(div_10)"
   ]
  },
  {
   "cell_type": "code",
   "execution_count": null,
   "id": "d93d08f7",
   "metadata": {},
   "outputs": [],
   "source": [
    "from bs4 import BeautifulSoup\n",
    "import requests\n",
    "import re\n",
    "import csv "
   ]
  },
  {
   "cell_type": "code",
   "execution_count": 32,
   "id": "54242ea9",
   "metadata": {},
   "outputs": [
    {
     "ename": "SyntaxError",
     "evalue": "invalid syntax (<ipython-input-32-c94e5beea4d6>, line 35)",
     "output_type": "error",
     "traceback": [
      "\u001b[1;36m  File \u001b[1;32m\"<ipython-input-32-c94e5beea4d6>\"\u001b[1;36m, line \u001b[1;32m35\u001b[0m\n\u001b[1;33m    if(count<10):\u001b[0m\n\u001b[1;37m                ^\u001b[0m\n\u001b[1;31mSyntaxError\u001b[0m\u001b[1;31m:\u001b[0m invalid syntax\n"
     ]
    }
   ],
   "source": [
    "url = \"https://coinmarketcap.com/coins\"\n",
    "html_content = requests.get(url).text\n",
    "with open('coins.csv', mode='w') as coins_file:\n",
    "    coins_writer = csv.writer(coins_file, delimiter=',', quotechar='\"', quoting=csv.QUOTE_MINIMAL)\n",
    "    coins_writer.writerow([\"SNo\",'Name', 'Symbol', 'URL'])\n",
    "    # Parse the html content\n",
    "    soup = BeautifulSoup(html_content, \"lxml\")\n",
    "    data_table = soup.find(\"table\", attrs={\"class\": \"cmc-table cmc-table___11lFC cmc-table-homepage___2_guh\"})\n",
    "    data_table_data = data_table.tbody.find_all(\"tr\")\n",
    "    #     count = 1\n",
    "    #     for row in data_table.tbody.find_all(\"tr\"):\n",
    "    #         Data = {\"Name\": ' ', \"Symbol\": ' ', \"URL\": ' '}\n",
    "    #         cells = row.findAll(\"td\")[2]\n",
    "    #         a_href_1 = cells.findAll(\"a\")[0]\n",
    "    #         # URL value here\n",
    "    #         url_tag = a_href_1.get('href')\n",
    "    #         div_2 = cells.findAll(\"div\")[0]\n",
    "    #         div_3 = div_2.findAll(\"div\")[0]\n",
    "    #         paragraph_1 = div_3.findAll(\"p\")[0]\n",
    "    #         Name = paragraph_1.get_text()\n",
    "    #         div_4 = div_3.findAll(\"div\")[0]\n",
    "    #         div_5 = div_4.findAll(\"div\")[0]\n",
    "    #         paragraph_2 = div_5.findAll(\"p\")[0]\n",
    "    #         symbol = paragraph_2.get_text()\n",
    "    #         Data[\"Name\"] = Name\n",
    "    #         Data[\"URL\"] = url_tag\n",
    "    #         Data[\"Symbol\"] = symbol\n",
    "    #         coins_writer.writerow(\n",
    "    #             [count,Name, symbol, \"https://coinmarketcap.com\"+url_tag])\n",
    "    #         count=count+1\n",
    "    #         print(Data)\n",
    "    for_except=0\n",
    "    count=1\n",
    "    while(count<=50):\n",
    "        if(count<10):\n",
    "            try:\n",
    "                for row in data_table.tbody.find_all(\"tr\"):\n",
    "                    cells = row.findAll(\"td\")[2]\n",
    "                    a_href_1 = cells.findAll(\"a\")[0]\n",
    "                    # URL value here\n",
    "                    url_tag = a_href_1.get('href')\n",
    "                    div_2 = cells.findAll(\"div\")[0]\n",
    "                    div_3 = div_2.findAll(\"div\")[0]\n",
    "                    paragraph_1 = div_3.findAll(\"p\")[0]\n",
    "                    Name = paragraph_1.get_text()\n",
    "                    div_4 = div_3.findAll(\"div\")[0]\n",
    "                    div_5 = div_4.findAll(\"div\")[0]\n",
    "                    paragraph_2 = div_5.findAll(\"p\")[0]\n",
    "                    symbol = paragraph_2.get_text()\n",
    "                    Data[\"Name\"] = Name\n",
    "                    Data[\"URL\"] = url_tag\n",
    "                    Data[\"Symbol\"] = symbol\n",
    "                    coins_writer.writerow([count,Name, symbol, \"https://coinmarketcap.com\"+url_tag])\n",
    "                    count=count+1\n",
    "                    print(Data)\n",
    "            except:\n",
    "               continue\n",
    "        else:\n",
    "            div_10=soup.findAll(\"tr\", {\"class\": \"sc-14kwl6f-0 fletOv\"})[for_except]\n",
    "            #div = soup.find(\"div\", {\"id\": \"home-template\"})\n",
    "            tabel_data_div=div_10.findAll(\"td\")[2]\n",
    "            a_href_link=tabel_data_div.find(\"a\")\n",
    "            Name_span=a_href_link.findAll(\"span\")[1]\n",
    "            Name=Name_span.get_text()\n",
    "            Symbol_span=a_href_link.findAll(\"span\")[2]\n",
    "            Symbol=Symbol_span.get_text()\n",
    "            Data[\"Name\"] = Name\n",
    "            Data[\"URL\"] = a_href_link.get('href')\n",
    "            Data[\"Symbol\"] = Symbol\n",
    "            for_except+=1\n",
    "            coins_writer.writerow([count,Name, Symbol, \"https://coinmarketcap.com\"+a_href_link.get('href')])\n",
    "            count+=1\n",
    "            print(Data)"
   ]
  },
  {
   "cell_type": "code",
   "execution_count": null,
   "id": "bbadfb42",
   "metadata": {},
   "outputs": [],
   "source": []
  }
 ],
 "metadata": {
  "kernelspec": {
   "display_name": "Python 3",
   "language": "python",
   "name": "python3"
  },
  "language_info": {
   "codemirror_mode": {
    "name": "ipython",
    "version": 3
   },
   "file_extension": ".py",
   "mimetype": "text/x-python",
   "name": "python",
   "nbconvert_exporter": "python",
   "pygments_lexer": "ipython3",
   "version": "3.9.4"
  }
 },
 "nbformat": 4,
 "nbformat_minor": 5
}
