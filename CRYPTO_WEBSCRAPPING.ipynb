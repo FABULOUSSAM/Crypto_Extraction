{
 "cells": [
  {
   "cell_type": "code",
   "execution_count": 335,
   "id": "34581f1b",
   "metadata": {},
   "outputs": [],
   "source": [
    "from bs4 import BeautifulSoup\n",
    "import requests\n",
    "import re\n",
    "import csv "
   ]
  },
  {
   "cell_type": "code",
   "execution_count": 336,
   "id": "245d2e16",
   "metadata": {},
   "outputs": [],
   "source": [
    "url = \"https://coinmarketcap.com/currencies/elrond-egld/\"\n",
    "html_content = requests.get(url).text\n",
    "soup = BeautifulSoup(html_content, \"lxml\")"
   ]
  },
  {
   "cell_type": "code",
   "execution_count": 337,
   "id": "53e4a62d",
   "metadata": {},
   "outputs": [
    {
     "name": "stdout",
     "output_type": "stream",
     "text": [
      "EGLD\n",
      "Elrond\n"
     ]
    }
   ],
   "source": [
    "txt=soup.find(\"h2\", attrs={\"class\": \"sc-1q9q90x-0 iYFMbU h1___3QSYG\"})\n",
    "txt2=soup.find(\"small\", attrs={\"class\": \"nameSymbol___1arQV\"})\n",
    "print(txt2.get_text())\n",
    "result = re.findall('[A-Z][^A-Z]*', txt.get_text())\n",
    "print(result[0])"
   ]
  },
  {
   "cell_type": "code",
   "execution_count": 252,
   "id": "9937ff0d",
   "metadata": {},
   "outputs": [
    {
     "name": "stdout",
     "output_type": "stream",
     "text": [
      "http://dogecoin.com/\n"
     ]
    }
   ],
   "source": [
    "website=soup.find(\"a\", attrs={\"class\": \"button___2MvNi\"})\n",
    "print(website.get(\"href\"))"
   ]
  },
  {
   "cell_type": "code",
   "execution_count": 253,
   "id": "c9144bca",
   "metadata": {},
   "outputs": [],
   "source": [
    "watch_list_div_1=soup.find(\"div\", attrs={\"class\": \"sc-16r8icm-0 cCqhlo\"})\n",
    "watch_list_div_2=watch_list_div_1.findAll(\"div\")[2]\n",
    "Watch_List_Count=watch_list_div_2.get_text()"
   ]
  },
  {
   "cell_type": "code",
   "execution_count": 256,
   "id": "509bc858",
   "metadata": {},
   "outputs": [],
   "source": [
    "circulating_supply_div=soup.find(\"div\", attrs={\"class\": \"statsValue___2iaoZ\"})\n",
    "Circualting_value=circulating_supply_div.get_text()"
   ]
  },
  {
   "cell_type": "code",
   "execution_count": 257,
   "id": "e1269cdc",
   "metadata": {},
   "outputs": [
    {
     "name": "stdout",
     "output_type": "stream",
     "text": [
      "$0.5392\n",
      "0.3684\n",
      "2.83%\n",
      "#4\n"
     ]
    }
   ],
   "source": [
    "div_1=soup.find(\"div\", attrs={\"class\": \"sc-16r8icm-0 frLsAa container___E9axz\"})\n",
    "table_1=div_1.find(\"table\")\n",
    "\n",
    "#for row in table_1.tbody.find_all(\"tr\"):\n",
    "#    print(row)\n",
    "    \n",
    "value=table_1.tbody.findAll(\"tr\")[0]\n",
    "Price=value.findAll(\"td\")[0].get_text()\n",
    "print(Price)\n",
    "value_2=table_1.tbody.findAll(\"tr\")[4]\n",
    "Volume=value_2.findAll(\"td\")[0].get_text()\n",
    "print(Volume)\n",
    "value_3=table_1.tbody.findAll(\"tr\")[5]\n",
    "Market_Domain=value_3.findAll(\"td\")[0].get_text()\n",
    "print(Market_Domain)\n",
    "value_4=table_1.tbody.findAll(\"tr\")[6]\n",
    "Market_Rank=value_4.findAll(\"td\")[0].get_text()\n",
    "print(Market_Rank)"
   ]
  },
  {
   "cell_type": "code",
   "execution_count": 258,
   "id": "26786121",
   "metadata": {},
   "outputs": [
    {
     "name": "stdout",
     "output_type": "stream",
     "text": [
      "$69,838,725,977.8223.91%\n"
     ]
    }
   ],
   "source": [
    "table_2=div_1.find_all('table')[1]\n",
    "value=table_2.tbody.findAll(\"tr\")[0]\n",
    "Market_cap=value.findAll(\"td\")[0].get_text()\n",
    "print(Market_cap)"
   ]
  },
  {
   "cell_type": "code",
   "execution_count": 259,
   "id": "47786a1f",
   "metadata": {
    "scrolled": true
   },
   "outputs": [
    {
     "name": "stdout",
     "output_type": "stream",
     "text": [
      "May 08, 2021 (a day ago)\n",
      "$0.7376\n"
     ]
    }
   ],
   "source": [
    "table_3=div_1.find_all('table')[3]\n",
    "value_1=table_3.tbody.findAll(\"tr\")[4]\n",
    "All_Time_High_Date=value_1.findAll(\"small\")[0]\n",
    "print(All_Time_High_Date.get_text())\n",
    "All_Time_High_Price=value_1.findAll(\"span\")[0]\n",
    "print(All_Time_High_Price.get_text())"
   ]
  },
  {
   "cell_type": "code",
   "execution_count": 260,
   "id": "69942763",
   "metadata": {},
   "outputs": [
    {
     "name": "stdout",
     "output_type": "stream",
     "text": [
      "May 07, 2015 (6 years ago)\n",
      "$0.00008547\n"
     ]
    }
   ],
   "source": [
    "table_3=div_1.find_all('table')[3]\n",
    "value_2=table_3.tbody.findAll(\"tr\")[5]\n",
    "All_Time_High_Date=value_2.findAll(\"small\")[0]\n",
    "print(All_Time_High_Date.get_text())\n",
    "All_Time_High_Price=value_2.findAll(\"span\")[0]\n",
    "print(All_Time_High_Price.get_text())"
   ]
  },
  {
   "cell_type": "code",
   "execution_count": 334,
   "id": "084dd48d",
   "metadata": {},
   "outputs": [
    {
     "name": "stdout",
     "output_type": "stream",
     "text": [
      "This page refers to the native Elrond currency called eGold. The old ERD currency underwent a redenomination of 1000 ERD:1 eGLD, and name change from ERD to eGLD, which is short for eGold. The new eGLD is 1000x larger than the old ERD. There is no difference between eGLD and ERD except for their name and denomination. See Elrond's blog post for more information.\n"
     ]
    }
   ],
   "source": [
    "string_101=\"\"\n",
    "paragraph_1=soup.find(\"div\", attrs={\"class\": \"sc-1lt0cju-0 srvSa\"})\n",
    "string_101=string_101+str(paragraph_1.get_text())\n",
    "print(string_101)"
   ]
  },
  {
   "cell_type": "code",
   "execution_count": 342,
   "id": "a8199668",
   "metadata": {},
   "outputs": [
    {
     "name": "stdout",
     "output_type": "stream",
     "text": [
      "None\n"
     ]
    }
   ],
   "source": [
    "paragraph_1=soup.find(\"h2\", attrs={\"id\": \"who-are-the-founders-of-\"+result[0]})\n",
    "print(paragraph_1)"
   ]
  },
  {
   "cell_type": "code",
   "execution_count": 333,
   "id": "b84b9511",
   "metadata": {},
   "outputs": [
    {
     "ename": "IndexError",
     "evalue": "list index out of range",
     "output_type": "error",
     "traceback": [
      "\u001b[1;31m---------------------------------------------------------------------------\u001b[0m",
      "\u001b[1;31mIndexError\u001b[0m                                Traceback (most recent call last)",
      "\u001b[1;32m<ipython-input-333-6c48be396e4e>\u001b[0m in \u001b[0;36m<module>\u001b[1;34m\u001b[0m\n\u001b[0;32m      2\u001b[0m \u001b[0mdata_paragraph\u001b[0m\u001b[1;33m=\u001b[0m\u001b[0mstring_101\u001b[0m\u001b[1;33m.\u001b[0m\u001b[0msplit\u001b[0m\u001b[1;33m(\u001b[0m\u001b[1;34m\"?\"\u001b[0m\u001b[1;33m)\u001b[0m\u001b[1;33m\u001b[0m\u001b[1;33m\u001b[0m\u001b[0m\n\u001b[0;32m      3\u001b[0m \u001b[1;31m#print(data_paragraph)\u001b[0m\u001b[1;33m\u001b[0m\u001b[1;33m\u001b[0m\u001b[1;33m\u001b[0m\u001b[0m\n\u001b[1;32m----> 4\u001b[1;33m \u001b[0mstring_1\u001b[0m\u001b[1;33m=\u001b[0m\u001b[0mdata_paragraph\u001b[0m\u001b[1;33m[\u001b[0m\u001b[1;36m1\u001b[0m\u001b[1;33m]\u001b[0m\u001b[1;33m\u001b[0m\u001b[1;33m\u001b[0m\u001b[0m\n\u001b[0m\u001b[0;32m      5\u001b[0m \u001b[0mstring_2\u001b[0m\u001b[1;33m=\u001b[0m\u001b[0mdata_paragraph\u001b[0m\u001b[1;33m[\u001b[0m\u001b[1;36m2\u001b[0m\u001b[1;33m]\u001b[0m\u001b[1;33m\u001b[0m\u001b[1;33m\u001b[0m\u001b[0m\n\u001b[0;32m      6\u001b[0m \u001b[0mstring_3\u001b[0m\u001b[1;33m=\u001b[0m\u001b[0mdata_paragraph\u001b[0m\u001b[1;33m[\u001b[0m\u001b[1;36m3\u001b[0m\u001b[1;33m]\u001b[0m\u001b[1;33m\u001b[0m\u001b[1;33m\u001b[0m\u001b[0m\n",
      "\u001b[1;31mIndexError\u001b[0m: list index out of range"
     ]
    }
   ],
   "source": [
    "data_paragraph=[]\n",
    "data_paragraph=string_101.split(\"?\")\n",
    "#print(data_paragraph)\n",
    "string_1=data_paragraph[1]\n",
    "string_2=data_paragraph[2]\n",
    "string_3=data_paragraph[3]\n",
    "print(string_1)"
   ]
  },
  {
   "cell_type": "code",
   "execution_count": 324,
   "id": "4c4c4fc7",
   "metadata": {},
   "outputs": [
    {
     "name": "stdout",
     "output_type": "stream",
     "text": [
      "['Self-described as \"Polkadot\\'s wild cousin,\" Kusama is an experimental blockchain platform that is designed to provide a massively interoperable and scalable framework for developers', 'Kusama is built on Substrate — a blockchain building kit developed by Parity Technologies', ' Kusama has almost the same codebase as Polkadot — one of the most successful interoperable blockchains', 'By deploying on Kusama, fast-paced projects gain access to a highly scalable, interoperable sharded network, with features that are not yet available on Polkadot', ' To that end, Kusama describes itself as a “canary network', '”The platform is designed to provide a testbed for developers looking to innovate and deploy their own blockchain and can be used as a preparatory network before launching on Polkadot — though many projects opt to stick with Kusama for their final product', ' Kusama benefits from a low barrier to entry for deploying parachains, low bond requirements for validators, and is most commonly used by early-stage startups and for experimentation', 'Who Are the Founders of Kusama']\n"
     ]
    }
   ],
   "source": [
    "inside_string=string_1.split(\".\")\n",
    "print(inside_string)"
   ]
  },
  {
   "cell_type": "code",
   "execution_count": 300,
   "id": "b696ca2c",
   "metadata": {},
   "outputs": [
    {
     "name": "stdout",
     "output_type": "stream",
     "text": [
      "Dogecoin (DOGE) is based on the popular \"doge\" Internet meme and features a Shiba Inu on its logo. The open-source digital currency was created by Billy Markus from Portland, Oregon and Jackson Palmer from Sydney, Australia, and was forked from Litecoin in December 2013. Dogecoin's creators envisaged it as a fun, light-hearted cryptocurrency that would have greater appeal beyond the core Bitcoin audience, since it was based on a dog meme. Tesla CEO Elon Musk posted several tweets on social media that Dogecoin is his favorite coin.\n",
      "h3\n"
     ]
    }
   ],
   "source": [
    "value_7=paragraph_1.find_all([\"h1\",\"h2\",\"h3\",\"h4\"])[0]\n",
    "first_tag=value_7.name\n",
    "for element in value_7.next_siblings:\n",
    "    if(element.name!=\"p\"):\n",
    "            last_tag=element.name\n",
    "            break\n",
    "    else:\n",
    "        print(element.get_text())\n",
    "print(last_tag)"
   ]
  },
  {
   "cell_type": "code",
   "execution_count": 304,
   "id": "a39ab72c",
   "metadata": {},
   "outputs": [
    {
     "name": "stdout",
     "output_type": "stream",
     "text": [
      "<h3 id=\"what-is-dogecoin\">What Is Dogecoin?</h3>\n",
      "Dogecoin (DOGE) is based on the popular \"doge\" Internet meme and features a Shiba Inu on its logo. The open-source digital currency was created by Billy Markus from Portland, Oregon and Jackson Palmer from Sydney, Australia, and was forked from Litecoin in December 2013. Dogecoin's creators envisaged it as a fun, light-hearted cryptocurrency that would have greater appeal beyond the core Bitcoin audience, since it was based on a dog meme. Tesla CEO Elon Musk posted several tweets on social media that Dogecoin is his favorite coin.\n"
     ]
    }
   ],
   "source": [
    "value_8=paragraph_1.find_all(last_tag)[0]\n",
    "for element in value_8.next_siblings:\n",
    "    if(element.name!=\"p\"):\n",
    "            last_tag=element.name\n",
    "            break\n",
    "    else:\n",
    "        print(element.get_text())"
   ]
  },
  {
   "cell_type": "code",
   "execution_count": 303,
   "id": "7874b6ad",
   "metadata": {},
   "outputs": [
    {
     "name": "stdout",
     "output_type": "stream",
     "text": [
      "Dogecoin (DOGE) is based on the popular \"doge\" Internet meme and features a Shiba Inu on its logo. The open-source digital currency was created by Billy Markus from Portland, Oregon and Jackson Palmer from Sydney, Australia, and was forked from Litecoin in December 2013. Dogecoin's creators envisaged it as a fun, light-hearted cryptocurrency that would have greater appeal beyond the core Bitcoin audience, since it was based on a dog meme. Tesla CEO Elon Musk posted several tweets on social media that Dogecoin is his favorite coin.\n"
     ]
    }
   ],
   "source": [
    "value_9=paragraph_1.find_all(last_tag)[0]\n",
    "for element in value_9.next_siblings:\n",
    "    if(element.name!=\"p\"):\n",
    "            last_tag=element.name\n",
    "            break\n",
    "    else:\n",
    "        print(element.get_text())"
   ]
  },
  {
   "cell_type": "code",
   "execution_count": 293,
   "id": "cefbad1d",
   "metadata": {},
   "outputs": [],
   "source": [
    "value_7=paragraph_1.find_all([\"h1\",\"h2\",\"h3\",\"h4\"])[0]\n",
    "try:\n",
    "    string_1=value_7.strong.get_text()\n",
    "except:\n",
    "     string_1=value_7.get_text()\n",
    "tag_lister=[\"h4\",\"h1\",\"h2\",\"h3\",\"h5\"]\n",
    "for element in value_7.next_siblings:\n",
    "    if(element.name==[\"h1\",\"h2\",\"h3\",\"h4\"]):\n",
    "        break\n",
    "    else:\n",
    "        \n",
    "        string_1=string_1+str(element.get_text())\n",
    "print(string_1)"
   ]
  },
  {
   "cell_type": "code",
   "execution_count": 273,
   "id": "9dd1e31a",
   "metadata": {},
   "outputs": [
    {
     "name": "stdout",
     "output_type": "stream",
     "text": [
      "What Is Dogecoin?Dogecoin (DOGE) is based on the popular \"doge\" Internet meme and features a Shiba Inu on its logo. The open-source digital currency was created by Billy Markus from Portland, Oregon and Jackson Palmer from Sydney, Australia, and was forked from Litecoin in December 2013. Dogecoin's creators envisaged it as a fun, light-hearted cryptocurrency that would have greater appeal beyond the core Bitcoin audience, since it was based on a dog meme. Tesla CEO Elon Musk posted several tweets on social media that Dogecoin is his favorite coin.How Do You Mine Dogecoin?Dogecoin differs from Bitcoin's proof-of-work protocol in several ways, one of which is by using Scrypt technology. The altcoin has also a block time of 1 minute, and the total supply is uncapped, which means that there is no limit to the number of Dogecoin that can be mined.\n",
      "You can mine Dogecoin either solo, or by joining a mining pool. A Doge miner can mine the digital currency on Windows, Mac or Linux, and with a GPU. As of 2014, you can also mine Litecoin in the same process of mining Dogecoin, as the processes were merged.What Can Dogecoin Be Used For?Dogecoin has been used primarily as a tipping system on Reddit and Twitter to reward the creation or sharing of quality content. You can get tipped Dogecoin by participating in a community that uses the digital currency, or you can get your Dogecoin from a Dogecoin faucet. A Dogecoin faucet is a website that will give you a small amount of Dogecoin for free as an introduction to the currency, so that you can begin interacting in Dogecoin communities.How Can You Buy Dogecoin?You can buy or sell Dogecoin at any exchange that offers the digital currency, store it on an exchange or in a Dogecoin wallet, and tip Dogecoin in any communities that accept Dogecoin. For the latest list of exchanges and trading pairs for this cryptocurrency, click on our market pairs tab.\n"
     ]
    }
   ],
   "source": [
    "value_8=paragraph_1.find_all(\"h3\")[0]\n",
    "try:\n",
    "    string_2=value_8.strong.get_text()\n",
    "except:\n",
    "     string_2=value_8.get_text()\n",
    "for element in value_8.next_siblings:\n",
    "    if(element.name==\"h4\"):\n",
    "        break\n",
    "    else:\n",
    "        \n",
    "        string_2=string_2+str(element.get_text())\n",
    "print(string_2)"
   ]
  },
  {
   "cell_type": "code",
   "execution_count": 274,
   "id": "4469930c",
   "metadata": {},
   "outputs": [
    {
     "ename": "IndexError",
     "evalue": "list index out of range",
     "output_type": "error",
     "traceback": [
      "\u001b[1;31m---------------------------------------------------------------------------\u001b[0m",
      "\u001b[1;31mIndexError\u001b[0m                                Traceback (most recent call last)",
      "\u001b[1;32m<ipython-input-274-384d11d033c7>\u001b[0m in \u001b[0;36m<module>\u001b[1;34m\u001b[0m\n\u001b[1;32m----> 1\u001b[1;33m \u001b[0mvalue_9\u001b[0m\u001b[1;33m=\u001b[0m\u001b[0mparagraph_1\u001b[0m\u001b[1;33m.\u001b[0m\u001b[0mfind_all\u001b[0m\u001b[1;33m(\u001b[0m\u001b[1;34m\"h4\"\u001b[0m\u001b[1;33m)\u001b[0m\u001b[1;33m[\u001b[0m\u001b[1;36m0\u001b[0m\u001b[1;33m]\u001b[0m\u001b[1;33m\u001b[0m\u001b[1;33m\u001b[0m\u001b[0m\n\u001b[0m\u001b[0;32m      2\u001b[0m \u001b[1;32mtry\u001b[0m\u001b[1;33m:\u001b[0m\u001b[1;33m\u001b[0m\u001b[1;33m\u001b[0m\u001b[0m\n\u001b[0;32m      3\u001b[0m     \u001b[0mstring_3\u001b[0m\u001b[1;33m=\u001b[0m\u001b[0mvalue_9\u001b[0m\u001b[1;33m.\u001b[0m\u001b[0mstrong\u001b[0m\u001b[1;33m.\u001b[0m\u001b[0mget_text\u001b[0m\u001b[1;33m(\u001b[0m\u001b[1;33m)\u001b[0m\u001b[1;33m\u001b[0m\u001b[1;33m\u001b[0m\u001b[0m\n\u001b[0;32m      4\u001b[0m \u001b[1;32mexcept\u001b[0m\u001b[1;33m:\u001b[0m\u001b[1;33m\u001b[0m\u001b[1;33m\u001b[0m\u001b[0m\n\u001b[0;32m      5\u001b[0m      \u001b[0mstring_3\u001b[0m\u001b[1;33m=\u001b[0m\u001b[0mvalue_9\u001b[0m\u001b[1;33m.\u001b[0m\u001b[0mget_text\u001b[0m\u001b[1;33m(\u001b[0m\u001b[1;33m)\u001b[0m\u001b[1;33m\u001b[0m\u001b[1;33m\u001b[0m\u001b[0m\n",
      "\u001b[1;31mIndexError\u001b[0m: list index out of range"
     ]
    }
   ],
   "source": [
    "value_9=paragraph_1.find_all(\"h4\")[0]\n",
    "try:\n",
    "    string_3=value_9.strong.get_text()\n",
    "except:\n",
    "     string_3=value_9.get_text()\n",
    "for element in value_9.next_siblings:\n",
    "    if(element.name==\"h5\"):\n",
    "        break\n",
    "    else:\n",
    "        \n",
    "        string_3=string_3+str(element.get_text())\n",
    "print(string_3)"
   ]
  },
  {
   "cell_type": "code",
   "execution_count": null,
   "id": "49538ed4",
   "metadata": {},
   "outputs": [],
   "source": []
  }
 ],
 "metadata": {
  "kernelspec": {
   "display_name": "Python 3",
   "language": "python",
   "name": "python3"
  },
  "language_info": {
   "codemirror_mode": {
    "name": "ipython",
    "version": 3
   },
   "file_extension": ".py",
   "mimetype": "text/x-python",
   "name": "python",
   "nbconvert_exporter": "python",
   "pygments_lexer": "ipython3",
   "version": "3.9.4"
  }
 },
 "nbformat": 4,
 "nbformat_minor": 5
}
